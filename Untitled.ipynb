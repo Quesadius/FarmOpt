{
 "cells": [
  {
   "cell_type": "code",
   "execution_count": 1,
   "metadata": {},
   "outputs": [
    {
     "name": "stdout",
     "output_type": "stream",
     "text": [
      "Academic license - for non-commercial use only\n",
      "\n",
      "For optimal ordering any starting point will do,\n",
      "but an ordering starting the week with 1 and ending\n",
      "the week cleaning in preparation for 1 is:\n"
     ]
    },
    {
     "data": {
      "text/plain": [
       "1-element Array{Any,1}:\n",
       " [1, 5, 4, 3, 2, 1]"
      ]
     },
     "metadata": {},
     "output_type": "display_data"
    },
    {
     "name": "stdout",
     "output_type": "stream",
     "text": [
      "\n",
      "Total time is 234.0 minutes.\n"
     ]
    }
   ],
   "source": [
    "\n",
    "# Joe Atkins\n",
    "# CS 524\n",
    "# HW 6-bonus\n",
    "# 6AUG18\n",
    "using Gurobi, JuMP, NamedArrays\n",
    "\n",
    "\n",
    "# Utilizing Miller-Tucker-Zemlin Example from Canvas and adapting to problem\n",
    "ordering = [:1, :2, :3, :4, :5]\n",
    "durations = [40 32 50 28 47]\n",
    "cleanings = [ 0 10  6 15  9\n",
    "              4  0  6 17  8\n",
    "             10 11  0 20 14\n",
    "              7 15  6  0  2\n",
    "              5  8  7  7  0]\n",
    "\n",
    "c = NamedArray(cleanings,(ordering,ordering))\n",
    "N = size(cleanings,1);\n",
    "\n",
    "# Subtour printing helper functions\n",
    "# HELPER FUNCTION: returns the cycle starting with paint START.\n",
    "function getSubtour(x,start)\n",
    "    subtour = [start]\n",
    "    while true\n",
    "        j = subtour[end]\n",
    "        for k in ordering\n",
    "            if x[j,k] == 1\n",
    "                push!(subtour,k)\n",
    "                break\n",
    "            end\n",
    "        end\n",
    "        if subtour[end] == start\n",
    "            break\n",
    "        end\n",
    "    end\n",
    "    return subtour\n",
    "end\n",
    "\n",
    "# HELPER FUNCTION: returns a list of all cycles\n",
    "function getAllSubtours(x)\n",
    "    nodesRemaining = ordering\n",
    "    subtours = []\n",
    "    while length(nodesRemaining) > 0\n",
    "        subtour = getSubtour(x,nodesRemaining[1])\n",
    "        push!(subtours, subtour)\n",
    "        nodesRemaining = setdiff(nodesRemaining,subtour)\n",
    "    end\n",
    "    return subtours\n",
    "end\n",
    "\n",
    "m = Model(solver = GurobiSolver(OutputFlag=0))\n",
    "\n",
    "@variable(m, x[ordering,ordering], Bin)                          # Binary variables for edge following from paint to paint\n",
    "@constraint(m, c1[j in ordering], sum( x[i,j] for i in ordering ) == 1)      # one out-edge\n",
    "@constraint(m, c2[i in ordering], sum( x[i,j] for j in ordering ) == 1)      # one in-edge\n",
    "@constraint(m, c3[i in ordering], x[i,i] == 0 )                            # no self-loops\n",
    "@objective(m, Min, sum( x[i,j]*cleanings[i,j] for i in ordering, j in ordering ))   # minimize total cleaning time\n",
    "                                    \n",
    "# MTZ variables and constraints\n",
    "@variable(m, u[ordering])\n",
    "@constraint(m, c4[i in ordering, j in ordering[2:end]], u[i] - u[j] + N*x[i,j] <= N-1 )  #MTZ Subtour elimination constraint from slide of trix\n",
    "\n",
    "\n",
    "\n",
    "\n",
    "solve(m)\n",
    "xx = getvalue(x)\n",
    "println()\n",
    "println(\"For optimal ordering any starting point will do,\")\n",
    "println(\"but an ordering starting the week with 1 and ending\")\n",
    "println(\"the week cleaning in preparation for 1 is:\")\n",
    "subtours = getAllSubtours(xx)  # get ordering of paint mixes\n",
    "sleep(1)\n",
    "display(subtours)\n",
    "println()\n",
    "#sol = NamedArray(zeros(Int,N,N),(ordering,ordering))\n",
    "#for i in ordering\n",
    "#    for j in ordering\n",
    "#        sol[i,j] = Int(xx[i,j])\n",
    "#    end\n",
    "#end\n",
    "#println(sol)\n",
    "#println()\n",
    "println(\"Total time is \", getobjectivevalue(m) + sum(durations), \" minutes.\")\n",
    "\n",
    "\n"
   ]
  },
  {
   "cell_type": "code",
   "execution_count": null,
   "metadata": {},
   "outputs": [],
   "source": []
  }
 ],
 "metadata": {
  "kernelspec": {
   "display_name": "Julia 0.6.2",
   "language": "julia",
   "name": "julia-0.6"
  },
  "language_info": {
   "file_extension": ".jl",
   "mimetype": "application/julia",
   "name": "julia",
   "version": "0.6.2"
  }
 },
 "nbformat": 4,
 "nbformat_minor": 2
}
