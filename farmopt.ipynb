{
 "cells": [
  {
   "cell_type": "markdown",
   "metadata": {},
   "source": [
    "### CS/ECE/ISyE 524 &mdash; Introduction to Optimization &mdash; Summer 2018 ###\n",
    "\n",
    "# Hobby Farm Production Optimization #\n",
    "\n",
    "#### Joel Atkins (jratkins@wisc.edu), Julin Peng (jpeng49@wisc.edu), and Junyi Wei (jwei53@wisc.edu)\n",
    "\n",
    "### Table of Contents\n",
    "\n",
    "1. [Introduction](#1.-Introduction)\n",
    "1. [Mathematical Model](#2.-Mathematical-model)\n",
    "1. [Solution](#3.-Solution)\n",
    "1. [Results and Discussion](#4.-Results-and-discussion)\n",
    "1. [Optional Subsection](#4.A.-Feel-free-to-add-subsections)\n",
    "1. [Conclusion](#5.-Conclusion)"
   ]
  },
  {
   "cell_type": "markdown",
   "metadata": {},
   "source": [
    "## 1. Introduction ##\n",
    "\n",
    "Our goal was to attempt to model the decisions facing a farmer when choosing what to grow on a hobby farm.  Given a plot of land, the farmer needs to choose which crops to grow, which livestock to raise and which equipment to purchase.  Unlike large-scale commercial farms, hobby farms tend to grow a diverse mixture of crops and livestock.  There is evidence that hobby farms fail more quickly than other types of agriculture[1], for many reasons but financial difficulties appear to be the primary driver.  Optimizing the profitability of such an endeavor, while also considering the constraint of diverisity in attempt to achieve a more \"idyllic\" setting, increases the likelihood of success.\n",
    "\n",
    "The complexity of this optimization problem is higher than it may seem at first glance.  On a large scale monocultural farm the problem is relatively simple, which crop has the maximum profit per acre?  On a hobby farm with a goal of diversity this is not the case.  Often, a decision about one crop or livestock is affected by another.  For example, if a farmer decides to grow a crop which can be used as feed for their animals they decrease the possible profit from that crop while also decreasing costs associated with that livestock.\n",
    "\n",
    "Finding data with which to model this problem is not difficult.  In fact, the challenge is actually in sifting through the abundance of government and industry reports in order to track down the various values.  As our goal was attempting to create an accurate model of this problem, continuing to add more detail to bring it closer and closer to reality, government sources were identified and values for costs and returns pulled from their tables [2][3][4][5][6][7][8][9][10].  If the focus of the work had been on searching for a true optimal set of choices and maximized return these data sources would have been further validated and the values normalized to ensure cross-compatibility (e.g dates, locations, etc).\n",
    "\n",
    "The following section will describe the iterative process used to model this problem.  Starting with a simplied \"toy\" model and then adding complexity in order to bring the model closer to the real world problem.  The model description is followed by [Julia] code using [JuMP] (Julia for Mathematical Optimization) in order to encode the model and find optimal results.  These results are then thoroughly described, with the final model being compared to previous, simplied iterations.  Finally, conclusions about the problem, model and process are presented.\n",
    "\n",
    "***Citations:***\n",
    "\n",
    "[1] Moyer, J. (2015). What nobody told me about small farming: I can’t make a living | Salon https://www.salon.com/2015/02/10/what_nobody_told_me_about_small_farming_i_cant_make_a_living/\n",
    "\n",
    "[2] U. S. Department of Agriculture. (2017). Crop Values 2016 Summary. Washington, DC: Author.\n",
    "\n",
    "[3] U. S. Department of Agriculture. (2018). Crop Production 2017 Summary. Washington, DC: Author.\n",
    "\n",
    "[4] Manitoba Agriculture Farm Management. (2017). Guidelines for Estimating Crop Production Costs. Winnipeg, Manitoba: Author.\n",
    "\n",
    "[5] Iowa State University Extension and Outreach. (2018). Estimated Returns to Farrow to Finish. Ames, IA: Author.\n",
    "\n",
    "[6] Iowa State University Extension and Outreach. (2018). Estimated Returns to Finishing Yearling Steers. Ames, IA: Author.\n",
    "\n",
    "[7] Iowa State University Extension and Outreach. (2018). Estimated Returns to Finishing Steer Calves. Ames, IA: Author.\n",
    "\n",
    "[8] Iowa State University Extension and Outreach. (2018). Agriculture Decision Maker. Retrieved from https://www.extension.iastate.edu/agdm/ldcostsreturns.html\n",
    "\n",
    "[9] UW-Madison College of Agriculture and Life Sciences. (2003). Large-scale pastured poultry farming in the U.S. Madison, WI: Author.\n",
    "\n",
    "[10] Hamra, C.F. (2010). An Assessment of the Potential Profitability of Poultry Farms: A Broiler Farm Feasibility Case Study. Master's Thesis. University of Tennessee at Martin. Martin, TN.\n",
    "\n",
    "   [Julia]: <https://julialang.org/>\n",
    "   [JuMP]: <https://github.com/JuliaOpt/JuMP.jl>\n"
   ]
  },
  {
   "cell_type": "markdown",
   "metadata": {},
   "source": [
    "## 2. Mathematical model ##\n",
    "\n",
    "A discussion of the modeling assumptions made in the problem (e.g. is it from physics? economics? something else?). Explain the decision variables, the constraints, and the objective function. Finally, show the optimization problem written in standard form. Discuss the model type (LP, QP, MIP, etc.). Equations should be formatted in $\\\\LaTeX$ within the IJulia notebook. For this section you may **assume the reader is familiar with the material covered in class**.\n",
    "\n",
    "Here is an example of an equation:\n",
    "\n",
    "$$\\begin{bmatrix}\n",
    "      1 & 2 \\\\\n",
    "       3 & 4\n",
    "    \\end{bmatrix}\n",
    "    \\begin{bmatrix} x \\\\ y \\end{bmatrix} =\n",
    "    \\begin{bmatrix} 5 \\\\ 6 \\end{bmatrix}$$\n",
    "\n",
    "And here is an example of an optimization problem in standard form:\n",
    "$$\\begin{aligned}\n",
    "  \\underset{x \\in \\mathbb{R^n}}{\\text{maximize}}\\qquad& f_0(x) \\\\\n",
    "    \\text{subject to:}\\qquad& f_i(x) \\le 0 && i=1,\\dots,m\\\\\n",
    "    & h_j(x) = 0 && j=1,\\dots,r\n",
    "    \\end{aligned}$$\n",
    "\n",
    "For some quick tips on using $\\LaTeX$, see [this cheat sheet](http://users.dickinson.edu/~richesod/latex/latexcheatsheet.pdf)."
   ]
  },
  {
   "cell_type": "markdown",
   "metadata": {},
   "source": [
    "## 3. Solution ##\n",
    "\n",
    "Here, you should code up your model in Julia + JuMP and solve it. Your code should be clean, easy to read, well annotated and commented, and it should compile! You are not allowed to use other programming languages or DCP packages such as `convex.jl`. **I will be running your code**. I suggest having multiple code blocks separated by text blocks that explain the various parts of your solution. You may also solve several versions of your problem with different models/assumptions.\n",
    "\n",
    "It's fine to call external packages such as `Gurobi`, but try to minimize the use of exotic libraries."
   ]
  },
  {
   "cell_type": "code",
   "execution_count": 1,
   "metadata": {},
   "outputs": [
    {
     "name": "stdout",
     "output_type": "stream",
     "text": [
      "The total number of horses is: 10.0\n",
      "The total number of donkeys is: 0.0\n",
      "The total number of goats is: 0.0\n"
     ]
    }
   ],
   "source": [
    "using DataFrames, CSV, NamedArrays\n",
    "raw = CSV.read(\"crops.csv\");\n",
    "# turn Crops into an array\n",
    "crops_array = convert(Array,raw);\n",
    "# the `names' of the DataFrame (header) are the information of each crop;\n",
    "info_crops = names(raw[2:end]);\n",
    "# create a list of crops from the crops array\n",
    "crops = crops_array[1:end,1];\n",
    "# create a NamedArray that specifies the information of each crop\n",
    "using NamedArrays\n",
    "crops_matrix = crops_array[1:end,2:end] # rows are crops, columns are information of crops\n",
    "crops_information_array = NamedArray(crops_matrix, (crops, info_crops), (\"crops\",\"info_crops\"))\n",
    "\n",
    "raw = CSV.read(\"LiveStock.csv\");\n",
    "# turn LiveStock into an array\n",
    "lstocks_array = convert(Array,raw);\n",
    "# the `names' of the DataFrame (header) are the information of each livestock;\n",
    "info_lstocks = names(raw[2:end]);\n",
    "# create a list of stocks from the livestocks array\n",
    "lstocks = lstocks_array[1:end,1];\n",
    "# create a NamedArray that specifies the information of each livestock\n",
    "using NamedArrays\n",
    "lstocks_matrix = lstocks_array[1:end,2:end] # rows are livestocks, columns are information of livestocks\n",
    "lstocks_information_array = NamedArray(lstocks_matrix, (lstocks, info_lstocks), (\"lstocks\",\"info_lstocks\"))\n",
    "\n",
    "#the properties of our farm\n",
    "tt_field=\n",
    "tt_pasture=\n",
    "tt_housing=\n",
    "\n",
    "using JuMP, Clp\n",
    "m = Model(solver=ClpSolver()) # create model named m\n",
    "\n",
    "#variables are the area(acre) to grow each crop and the number(hd) for each livestock\n",
    "@variable(m, crops[crops] >= 0)\n",
    "@variable(m, lstocks[lstocks]>=0)\n",
    "\n",
    "#constraints of field\n",
    "@constraint(m, ttfield, sum(crops[i] for i in crops) <= tt_field )\n",
    "#constraints of pasture\n",
    "@constraint(m, ttpasture, sum(lstocks[i]*lstocks_information_array[i,:Pasture (acres/hd)] for i in lstocks) <= tt_pasture )\n",
    "#constraints of housing area\n",
    "@constraint(m, ttpasture, sum(lstocks[i]*lstocks_information_array[i,:EnclosedHousing(sq. ft./hd)] for i in lstocks) <= tt_housing )\n",
    "\n",
    "# expression of the total return from crops\n",
    "@expression(m, tot_return_crop, sum(crops[i]* crops_information_array[i,:Return ($/acre)]for i in crops) )\n",
    "#expression of the total return from livestocks\n",
    "@expression(m, tot_return_lstock, sum(lstocks[i]* lstocks_information_array[i,:Returns ($/hd)]for i in lstocks))\n",
    "\n",
    "#objective: to maximize the return\n",
    "@objective(m, Max, tot_return_crop+tot_return_lstocks)\n",
    "\n"
   ]
  },
  {
   "cell_type": "markdown",
   "metadata": {},
   "source": [
    "## 4. Results and discussion ##\n",
    "\n",
    "Here, you display and discuss the results. Show figures, plots, images, trade-off curves, or whatever else you can think of to best illustrate your results. The discussion should explain what the results mean, and how to interpret them. You should also explain the limitations of your approach/model and how sensitive your results are to the assumptions you made.\n",
    "\n",
    " Use plots (see `PyPlot` examples from class), or you can display results in a table like this:\n",
    "\n",
    "| Tables        | Are          | Cool  |\n",
    "| ------------- |:-------------| -----:|\n",
    "| col 3 is      |right-aligned |\\$1600 |\n",
    "|  colons       | align columns|  \\$12 |\n",
    "| zebra stripes |    are neat  |   \\$1 |\n",
    "\n",
    "### 4.A. Feel free to add subsections\n",
    "\n",
    "#### 4.A.a. or subsubsections"
   ]
  },
  {
   "cell_type": "markdown",
   "metadata": {},
   "source": [
    "## 5. Conclusion ##\n",
    "\n",
    "Summarize your findings and your results, and talk about at least one possible future direction; something that might be interesting to pursue as a follow-up to your project."
   ]
  },
  {
   "cell_type": "code",
   "execution_count": null,
   "metadata": {},
   "outputs": [],
   "source": []
  }
 ],
 "metadata": {
  "kernelspec": {
   "display_name": "Julia 0.6.2",
   "language": "julia",
   "name": "julia-0.6"
  },
  "language_info": {
   "file_extension": ".jl",
   "mimetype": "application/julia",
   "name": "julia",
   "version": "0.6.2"
  }
 },
 "nbformat": 4,
 "nbformat_minor": 2
}
