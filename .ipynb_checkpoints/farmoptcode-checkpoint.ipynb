{
 "cells": [
  {
   "cell_type": "code",
   "execution_count": 1,
   "metadata": {},
   "outputs": [
    {
     "ename": "LoadError",
     "evalue": "\u001b[91mUndefVarError: CSV not defined\u001b[39m",
     "output_type": "error",
     "traceback": [
      "\u001b[91mUndefVarError: CSV not defined\u001b[39m",
      ""
     ]
    }
   ],
   "source": [
    "raw = CSV.read(\"crops.csv\");\n",
    "# turn Crops into an array\n",
    "crops_array = convert(Array,raw);\n",
    "# the `names' of the DataFrame (header) are the information of each crop;\n",
    "info_crops = names(raw[2:end]);\n",
    "# create a list of crops from the crops array\n",
    "crops = crops_array[1:end,1];\n",
    "# create a NamedArray that specifies the information of each crop\n",
    "using NamedArrays\n",
    "crops_matrix = crops_array[1:end,2:end] # rows are crops, columns are information of crops\n",
    "crops_information_array = NamedArray(crops_matrix, (crops, info_crops), (\"crops\",\"info_crops\"))\n",
    "\n",
    "raw = CSV.read(\"LiveStock.csv\");\n",
    "# turn LiveStock into an array\n",
    "lstocks_array = convert(Array,raw);\n",
    "# the `names' of the DataFrame (header) are the information of each livestock;\n",
    "info_lstocks = names(raw[2:end]);\n",
    "# create a list of stocks from the livestocks array\n",
    "lstocks = lstocks_array[1:end,1];\n",
    "# create a NamedArray that specifies the information of each livestock\n",
    "using NamedArrays\n",
    "lstocks_matrix = lstocks_array[1:end,2:end] # rows are livestocks, columns are information of livestocks\n",
    "lstocks_information_array = NamedArray(lstocks_matrix, (lstocks, info_lstocks), (\"lstocks\",\"info_lstocks\"))\n",
    "\n",
    "#the properties of our farm\n",
    "tt_field=\n",
    "tt_pasture=\n",
    "tt_housing=\n",
    "\n",
    "using JuMP, Clp\n",
    "m = Model(solver=ClpSolver()) # create model named m\n",
    "\n",
    "#variables are the area(acre) to grow each crop and the number(hd) for each livestock\n",
    "@variable(m, crops[crops] >= 0)\n",
    "@variable(m, lstocks[lstocks]>=0)\n",
    "\n",
    "#constraints of field\n",
    "@constraint(m, ttfield, sum(crops[i] for i in crops) <= tt_field )\n",
    "#constraints of pasture\n",
    "@constraint(m, ttpasture, sum(lstocks[i]*lstocks_information_array[i,:Pasture (acres/hd)] for i in lstocks) <= tt_pasture )\n",
    "#constraints of housing area\n",
    "@constraint(m, ttpasture, sum(lstocks[i]*lstocks_information_array[i,:EnclosedHousing(sq. ft./hd)] for i in lstocks) <= tt_housing )\n",
    "\n",
    "# expression of the total return from crops\n",
    "@expression(m, tot_return_crop, sum(crops[i]* crops_information_array[i,:Return ($/acre)]for i in crops) )\n",
    "#expression of the total return from livestocks\n",
    "@expression(m, tot_return_lstock, sum(lstocks[i]* lstocks_information_array[i,:Returns ($/hd)]for i in lstocks))\n",
    "\n",
    "#objective: to maximize the return\n",
    "@objective(m, Max, tot_return_crop+tot_return_lstocks)\n",
    "\n"
   ]
  },
  {
   "cell_type": "code",
   "execution_count": null,
   "metadata": {},
   "outputs": [],
   "source": []
  }
 ],
 "metadata": {
  "kernelspec": {
   "display_name": "Julia 0.6.2",
   "language": "julia",
   "name": "julia-0.6"
  },
  "language_info": {
   "file_extension": ".jl",
   "mimetype": "application/julia",
   "name": "julia",
   "version": "0.6.2"
  }
 },
 "nbformat": 4,
 "nbformat_minor": 2
}
